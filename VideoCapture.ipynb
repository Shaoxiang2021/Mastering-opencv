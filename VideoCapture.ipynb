{
 "cells": [
  {
   "cell_type": "code",
   "execution_count": null,
   "id": "35a82934",
   "metadata": {},
   "outputs": [],
   "source": [
    "import numpy as np\n",
    "import cv2"
   ]
  },
  {
   "cell_type": "code",
   "execution_count": null,
   "id": "d45c15f2",
   "metadata": {},
   "outputs": [],
   "source": [
    "videoCapture = cv2.VideoCapture(0)\n",
    "\n",
    "while True:\n",
    "    \n",
    "    # capture frame-by-frame from video file\n",
    "    # ret is true or false giving the information weather accessfully get the current image\n",
    "    ret, frame = videoCapture.read()\n",
    "    \n",
    "    # show the frame on the screen\n",
    "    cv2.imshow(\"frame\", frame)\n",
    "    \n",
    "    if cv2.waitKey(27) & 0xFF == ord('q'):\n",
    "        break\n",
    "        \n",
    "# When everything done, release the capture\n",
    "videoCapture.release()\n",
    "cv2.destroyAllWindows()"
   ]
  }
 ],
 "metadata": {
  "kernelspec": {
   "display_name": "Python 3 (ipykernel)",
   "language": "python",
   "name": "python3"
  },
  "language_info": {
   "codemirror_mode": {
    "name": "ipython",
    "version": 3
   },
   "file_extension": ".py",
   "mimetype": "text/x-python",
   "name": "python",
   "nbconvert_exporter": "python",
   "pygments_lexer": "ipython3",
   "version": "3.8.12"
  }
 },
 "nbformat": 4,
 "nbformat_minor": 5
}
