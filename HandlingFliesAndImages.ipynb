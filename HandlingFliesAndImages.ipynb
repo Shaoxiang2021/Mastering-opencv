{
 "cells": [
  {
   "cell_type": "code",
   "execution_count": 1,
   "id": "8a503e70",
   "metadata": {},
   "outputs": [
    {
     "name": "stdout",
     "output_type": "stream",
     "text": [
      "The name of the script being processed is: 'C:\\Users\\tsx10\\Anaconda3\\envs\\Computer_Version\\lib\\site-packages\\ipykernel_launcher.py'\n",
      "The number of arguments of the script is: '3'\n",
      "The arguments of the script are: '['C:\\\\Users\\\\tsx10\\\\Anaconda3\\\\envs\\\\Computer_Version\\\\lib\\\\site-packages\\\\ipykernel_launcher.py', '-f', 'C:\\\\Users\\\\tsx10\\\\AppData\\\\Roaming\\\\jupyter\\\\runtime\\\\kernel-a179a560-0c96-4504-ba18-e2d202606b66.json']'\n"
     ]
    }
   ],
   "source": [
    "# import the required packages\n",
    "import sys\n",
    "\n",
    "# We will print some information in connection with sys.argv to see how it works:\n",
    "print(\"The name of the script being processed is: '{}'\".format(sys.argv[0]))\n",
    "print(\"The number of arguments of the script is: '{}'\".format(len(sys.argv)))\n",
    "print(\"The arguments of the script are: '{}'\".format(str(sys.argv)))"
   ]
  },
  {
   "cell_type": "code",
   "execution_count": null,
   "id": "b7bf5eef",
   "metadata": {},
   "outputs": [],
   "source": [
    "# interactive tool using argparse to see python book"
   ]
  },
  {
   "cell_type": "code",
   "execution_count": null,
   "id": "b2f89bd8",
   "metadata": {},
   "outputs": [],
   "source": [
    "# Import the required packages\n",
    "import argparse\n",
    "import cv2\n",
    "\n",
    "# We first create the ArgumentParser object \n",
    "# The created object 'parser' will have the necessary information\n",
    "# to parse the command-line arguments into data types.\n",
    "parser = argparse.ArgumentParser()\n",
    "\n",
    "# We add 'path_image' argument using add_argument() including a help. The type of this argument is string (by default)\n",
    "parser.add_argument(\"path_image\", help=\"path to input image to be displayed\")\n",
    "\n",
    "# The information about program arguments is stored in 'parser'\n",
    "# Then, it is used when the parser calls parse_args().\n",
    "# ArgumentParser parses arguments through the parse_args() method:\n",
    "args = parser.parse_args()\n",
    "\n",
    "# We can now load the input image from disk:\n",
    "image = cv2.imread(args.path_image)\n",
    "\n",
    "# Parse the argument and store it in a dictionary:\n",
    "args = vars(parser.parse_args())\n",
    "\n",
    "# Now, we can also load the input image from disk using args:\n",
    "image2 = cv2.imread(args[\"path_image\"])\n",
    "\n",
    "# Show the loaded image:\n",
    "cv2.imshow(\"loaded image\", image)\n",
    "cv2.imshow(\"loaded image2\", image2)\n",
    "\n",
    "# Wait until a key is pressed:\n",
    "cv2.waitKey(0)\n",
    "\n",
    "# Destroy all windows:\n",
    "cv2.destroyAllWindows()"
   ]
  }
 ],
 "metadata": {
  "kernelspec": {
   "display_name": "Python 3 (ipykernel)",
   "language": "python",
   "name": "python3"
  },
  "language_info": {
   "codemirror_mode": {
    "name": "ipython",
    "version": 3
   },
   "file_extension": ".py",
   "mimetype": "text/x-python",
   "name": "python",
   "nbconvert_exporter": "python",
   "pygments_lexer": "ipython3",
   "version": "3.8.12"
  }
 },
 "nbformat": 4,
 "nbformat_minor": 5
}
