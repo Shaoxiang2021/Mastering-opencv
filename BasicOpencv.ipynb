{
 "cells": [
  {
   "cell_type": "code",
   "execution_count": 1,
   "id": "ab137c92",
   "metadata": {},
   "outputs": [],
   "source": [
    "# import library\n",
    "import cv2\n",
    "import numpy as np"
   ]
  },
  {
   "cell_type": "code",
   "execution_count": 2,
   "id": "0e2f56a9",
   "metadata": {},
   "outputs": [],
   "source": [
    "# load image using cv2.imread function\n",
    "image = cv2.imread('image/logo.png')"
   ]
  },
  {
   "cell_type": "code",
   "execution_count": 3,
   "id": "02ec6079",
   "metadata": {},
   "outputs": [
    {
     "data": {
      "text/plain": [
       "(600, 487, 3)"
      ]
     },
     "execution_count": 3,
     "metadata": {},
     "output_type": "execute_result"
    }
   ],
   "source": [
    "# access properties of the image\n",
    "dimensions = image.shape\n",
    "dimensions"
   ]
  },
  {
   "cell_type": "code",
   "execution_count": 4,
   "id": "16c83be3",
   "metadata": {},
   "outputs": [
    {
     "data": {
      "text/plain": [
       "876600"
      ]
     },
     "execution_count": 4,
     "metadata": {},
     "output_type": "execute_result"
    }
   ],
   "source": [
    "# image size\n",
    "total_number_of_elements = image.size\n",
    "total_number_of_elements"
   ]
  },
  {
   "cell_type": "code",
   "execution_count": 5,
   "id": "78f9677b",
   "metadata": {},
   "outputs": [
    {
     "data": {
      "text/plain": [
       "dtype('uint8')"
      ]
     },
     "execution_count": 5,
     "metadata": {},
     "output_type": "execute_result"
    }
   ],
   "source": [
    "# image datatype\n",
    "image_dtype = image.dtype\n",
    "image_dtype"
   ]
  },
  {
   "cell_type": "code",
   "execution_count": 6,
   "id": "c65212cb",
   "metadata": {},
   "outputs": [],
   "source": [
    "# display an image using cv2.imshow function\n",
    "cv2.imshow(\"original image\", image)\n",
    "cv2.waitKey(0)\n",
    "cv2.destroyAllWindows()"
   ]
  },
  {
   "cell_type": "code",
   "execution_count": 7,
   "id": "94c681b8",
   "metadata": {},
   "outputs": [],
   "source": [
    "# get pixel rgb value\n",
    "\n",
    "# mentioned that OpenCv uses the BGR color format not RGB!\n",
    "(b, g, r) = image[6, 40]\n",
    "\n",
    "# or access only one channel\n",
    "b = image[6, 40, 0]"
   ]
  },
  {
   "cell_type": "code",
   "execution_count": 8,
   "id": "bfcedcd5",
   "metadata": {},
   "outputs": [],
   "source": [
    "# the pixel values can be also modified\n",
    "image[6, 40] = (0, 0, 255)\n",
    "\n",
    "# get the top left coner of the image\n",
    "top_left_corner = image[0:50, 0:50]"
   ]
  },
  {
   "cell_type": "code",
   "execution_count": 9,
   "id": "7d7bbcc6",
   "metadata": {},
   "outputs": [],
   "source": [
    "# show the corner image\n",
    "cv2.imshow(\"top left corner image\", top_left_corner)\n",
    "cv2.waitKey(0)\n",
    "cv2.destroyAllWindows()"
   ]
  },
  {
   "cell_type": "code",
   "execution_count": 10,
   "id": "214097af",
   "metadata": {},
   "outputs": [],
   "source": [
    "# load grayscale image\n",
    "gray_image = cv2.imread('image/logo.png', cv2.IMREAD_GRAYSCALE)\n",
    "cv2.imshow(\"gray image\", gray_image)\n",
    "cv2.waitKey(0)\n",
    "cv2.destroyAllWindows()"
   ]
  },
  {
   "cell_type": "code",
   "execution_count": 11,
   "id": "45a875be",
   "metadata": {},
   "outputs": [
    {
     "data": {
      "text/plain": [
       "(600, 487)"
      ]
     },
     "execution_count": 11,
     "metadata": {},
     "output_type": "execute_result"
    }
   ],
   "source": [
    "dimensions = gray_image.shape\n",
    "dimensions"
   ]
  },
  {
   "cell_type": "code",
   "execution_count": 12,
   "id": "5746ab1f",
   "metadata": {},
   "outputs": [],
   "source": [
    "#import matplotlib library\n",
    "import matplotlib.pyplot as plt"
   ]
  },
  {
   "cell_type": "code",
   "execution_count": 13,
   "id": "eaaa5047",
   "metadata": {},
   "outputs": [],
   "source": [
    "# mentioned that OpenCv uses the BGR color format not RGB!\n",
    "# if we use another plot tool, we must ensure that we have the right color fomat\n",
    "\n",
    "# example below, to plot image using matlablib in RGB color order\n",
    "\n",
    "img_OpenCV = cv2.imread('./image/logo.png')\n",
    "\n",
    "# split in three channels using cv2.split function\n",
    "b, g, r = cv2.split(img_OpenCV)\n",
    "\n",
    "# merge them in order RGB format\n",
    "img_matplotlib = cv2.merge([r, g, b])"
   ]
  },
  {
   "cell_type": "code",
   "execution_count": 14,
   "id": "6f3a111f",
   "metadata": {},
   "outputs": [
    {
     "data": {
      "image/png": "[encoded data removed]",
      "text/plain": [
       "<Figure size 432x288 with 2 Axes>"
      ]
     },
     "metadata": {
      "needs_background": "light"
     },
     "output_type": "display_data"
    }
   ],
   "source": [
    "# Show both images (img_OpenCV and img_matplotlib) using matplotlib\n",
    "# This will show the image in wrong color:\n",
    "plt.subplot(121)\n",
    "plt.imshow(img_OpenCV)\n",
    "\n",
    "# This will show the image in true color:\n",
    "plt.subplot(122)\n",
    "plt.imshow(img_matplotlib)\n",
    "plt.show()"
   ]
  },
  {
   "cell_type": "code",
   "execution_count": 15,
   "id": "c4952308",
   "metadata": {},
   "outputs": [],
   "source": [
    "# Show both images (img_OpenCV and img_matplotlib) using cv2.imshow()\n",
    "# This will show the image in true color:\n",
    "cv2.imshow('bgr image', img_OpenCV)\n",
    "\n",
    "# This will show the image in wrong color:\n",
    "cv2.imshow('rgb image', img_matplotlib)\n",
    "cv2.waitKey(0)\n",
    "cv2.destroyAllWindows()"
   ]
  },
  {
   "cell_type": "code",
   "execution_count": 16,
   "id": "b89fcb04",
   "metadata": {},
   "outputs": [],
   "source": [
    "# To stack horizontally (img_OpenCV to the left of img_matplotlib):\n",
    "img_concats = np.concatenate((img_OpenCV, img_matplotlib), axis=1)\n",
    "\n",
    "# Now, we show the concatenated image:\n",
    "cv2.imshow('bgr image and rgb image', img_concats)\n",
    "cv2.waitKey(0)\n",
    "cv2.destroyAllWindows()"
   ]
  },
  {
   "cell_type": "code",
   "execution_count": 17,
   "id": "bdcf4d7e",
   "metadata": {},
   "outputs": [],
   "source": [
    "# Using numpy capabilities to get the channels and to build the RGB image\n",
    "# Get the three channels (instead of using cv2.split):\n",
    "B = img_OpenCV[:, :, 0]\n",
    "G = img_OpenCV[:, :, 1]\n",
    "R = img_OpenCV[:, :, 2]\n",
    "\n",
    "# Transform the image BGR to RGB using Numpy capabilities:\n",
    "img_matplotlib = img_OpenCV[:, :, ::-1]"
   ]
  }
 ],
 "metadata": {
  "kernelspec": {
   "display_name": "Python 3 (ipykernel)",
   "language": "python",
   "name": "python3"
  },
  "language_info": {
   "codemirror_mode": {
    "name": "ipython",
    "version": 3
   },
   "file_extension": ".py",
   "mimetype": "text/x-python",
   "name": "python",
   "nbconvert_exporter": "python",
   "pygments_lexer": "ipython3",
   "version": "3.8.12"
  }
 },
 "nbformat": 4,
 "nbformat_minor": 5
}
